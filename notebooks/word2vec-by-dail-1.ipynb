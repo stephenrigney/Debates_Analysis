{
 "cells": [
  {
   "cell_type": "code",
   "execution_count": 8,
   "metadata": {
    "collapsed": false
   },
   "outputs": [],
   "source": [
    "import pymongo, spacy, gensim\n",
    "from datetime import datetime\n",
    "import numpy as np\n",
    "from spacy.tokens.doc import Doc"
   ]
  },
  {
   "cell_type": "code",
   "execution_count": 2,
   "metadata": {
    "collapsed": true
   },
   "outputs": [],
   "source": [
    "db = pymongo.MongoClient()\n",
    "dail = db.texts.dail\n",
    "houses = db.houses.houses"
   ]
  },
  {
   "cell_type": "code",
   "execution_count": 6,
   "metadata": {
    "collapsed": false
   },
   "outputs": [
    {
     "name": "stdout",
     "output_type": "stream",
     "text": [
      "CPU times: user 7.11 s, sys: 1.98 s, total: 9.09 s\n",
      "Wall time: 9.12 s\n"
     ]
    }
   ],
   "source": [
    "%time nlp = spacy.load(\"en\")"
   ]
  },
  {
   "cell_type": "markdown",
   "metadata": {},
   "source": [
    "Retrieve the start and end dates for an individual Dáil, and retrieve documents for that dail."
   ]
  },
  {
   "cell_type": "code",
   "execution_count": 3,
   "metadata": {
    "collapsed": false
   },
   "outputs": [
    {
     "name": "stdout",
     "output_type": "stream",
     "text": [
      "Dáil: 4 \n",
      "Start date: 1923-09-19 \n",
      "End date: 1927-05-23\n"
     ]
    }
   ],
   "source": [
    "dail4 = houses.find_one({\"house_type\":'0', 'house_num':\"4\"}, { \"house_num\":1, \"start_term\":1, \"end_term\":1})\n",
    "print(\"Dáil:\", dail4['house_num'], \"\\nStart date:\", dail4['start_term'].date(), \"\\nEnd date:\", dail4['end_term'].date())"
   ]
  },
  {
   "cell_type": "code",
   "execution_count": 4,
   "metadata": {
    "collapsed": false
   },
   "outputs": [
    {
     "name": "stdout",
     "output_type": "stream",
     "text": [
      "Total number of tokens (words) uttered: 12,992,570\n"
     ]
    }
   ],
   "source": [
    "agg = dail.aggregate([{\"$match\": \n",
    "                     {\"date\": {\"$gte\": dail4[\"start_term\"], \n",
    "                               \"$lte\": dail4['end_term']}\n",
    "                     }}, \n",
    "                    {\"$group\": {\"_id\": None, \n",
    "                                \"sum\": {\"$sum\": \"$len_doc\"}}\n",
    "                    }]).next()\n",
    "\n",
    "print(\"Total number of tokens (words) uttered: {:,.0f}\".format(agg['sum']))"
   ]
  },
  {
   "cell_type": "code",
   "execution_count": 30,
   "metadata": {
    "collapsed": false
   },
   "outputs": [],
   "source": [
    "dail_4 = dail.find({\"date\": {\"$gte\": dail4[\"start_term\"], \n",
    "                               \"$lte\": dail4['end_term']}}, {\"text\":1}).skip(1).next()"
   ]
  },
  {
   "cell_type": "code",
   "execution_count": 31,
   "metadata": {
    "collapsed": false
   },
   "outputs": [
    {
     "data": {
      "text/plain": [
       "[\"A Chinn Chomhairle agus a Theachtaí na Dála, deinim-se Liam T. Mac Cosgair d-ainmniú chun bheith 'na Uachtarán arís. Timpeall bliadhain ó shoin, thánamar, annso.  Bhí cúram na tíre orainn agus brón mór orainn mar gheall ar thrioblóid na h-aimsire sin.  Bhí orainn duine do thogha a bhéadh mar Cheann ar na Teachtaí annso agus ar an tír leis. Dheineamar fear do thogha do dhein an obair go maith.  Níor fhéadamar a rádh fé go raibh a ainm 'nár gcluasaibh le bliadhanta nó go raibh sé mar stuírtheóir agus Múinteóir duinn i bhfad roimis sin fé mar a bhí Art Ó  Gríobhtha.  Níor fhéadamar a rádh go raibh sé mar sgéul 'nár measg, dár ngriosú chun oibre, fé mar a bhí Micheál O Coileaín.  Níor fheadamar a rádh go raibh a ainm agus a chlú i n-áirde i measg muinntear na h-Éireann. Ach d'fhéadamar a rádh go raibh Liam Mac Cosgair 'na sheirbhíseach dhílis dos na daoinibh a bhí ag obair agus ag troid ar son na h-Eireann.  Dheineamar Liam Mac Cosgair do thogha mar Uachtarán.  Fear des na gnáth-daoine do b'eadh é ach bhí taithighe maith aige ar sheirbhísacht puiblí.  Thóg sé air fhéin cruadhtan, agus cúram na tíre, chur sé a thoil le thoil Dé agus chrom sé ar an obair.  Thug sé air fhein ár gcúraim agus choimhlionn sé an dualgas duinn.\",\n",
       " 'Twelve months ago we found ourselves meeting here, a Parliament of the Irish people, in days of very great sorrow and very great stress.  We had to elect from amongst ourselves a man who would take on himself the highest and supremest responsibility for directing our work here along proper lines and for shouldering the great responsibilities of the Government of our people.  We had lost the two leaders that we had been depending on for a very long time, the two leaders that we had hoped would be our strength and our guidance in shouldering the great responsibilities that came on the shoulders of the Irish people, the responsibilities of their own government. Deprived, by the will of the Lord, of the services of those men, we had to find from among the members that were elected here by the people, somebody to take their place. At that time or some time later in calling for National discipline, I did feel it necessary to suggest, as we had not then a national party, that perhaps we had not then a national leader, and although we were not able to say, or we could not have said, of Liam T. MacCosgair then that, like Arthur Griffith, he had been a light and a guidance and a teacher to us for many years, or that like Michael Collins he had been, as it were, a legend among us, helping us to rise to our work and our duties; we could say that he had been for years a very faithful servant of those who were  foremost in the work of building up our country and in fighting for its liberty.  We did ask one who was to us then a faithful servant of others to take on the responsibilities of leadership. Any doubts that were in our hearts at that time as to whether we had or had not amongst us a national leader have passed.',\n",
       " \"The person who followed up where Michael Collins and Arthur Griffith had perforce to leave off, has shown himself to be a worthy successor of them in the energy and ability of his mind and in his conscientious application to his duties.  The man who entered Michael Collins' room and took his place, as hard and as vigorous a worker as Michael Collins was in giving to us of his best—the man who entered his room here in Merrion Street in succession to him has not been one whit behind Michael Collins in his great energy and great labour and devotion to his duty.  There is not a single man whose privilege it was to sit in the last Dáil, who has had, as an individual, some vision of our President doing his ordinary work and going about his own personal work as President and as a man, who has not as a result found strength in carrying out his individual work.\",\n",
       " 'There is no person here who has standing among his own sectional group and who has responsibilities greater than the responsibilities of an ordinary member, who has not some vision of the President acting as a leader among his own people and acting as a leader among the people of Ireland, and who does not in consequence find strength in carrying out his smaller sectional duties in being a leader of a group or a party.  Personally, in the peculiar responsibility that did come to me during the term of the last Dáil, the President has been a source of help without which I did not feel that I would have been able to shoulder the responsibilities that came my way.  His help, his understanding, his insight, and the way even in which he acted as a corrective, have made very much lighter than they would have ordinarily been, responsibilities of a peculiar nature that were very great.',\n",
       " 'To-day when the President of our  Nation treads a wider and a more wide-flung field than we have been used to considering or thinking of, it is a very great pleasure and a gratification for us to know that everywhere he went recently on the Continent, whether among Statesmen or among Churchmen or among the ordinary people of those nations that he travelled through, everyone of them was struck with the way in which he devoted himself to the different duties that came his way and by the simple and proud dignity with which he appeared before them as the President of our country.  Everyone of you, such is the nature of our President, not only knows him as a public man, but his spirit and his simplicity are such that you practically all know him as a private man, talking as friend to friend, or meeting him in his house, and you do not want any elaboration of that state of things to recommend him to you as your President here.',\n",
       " 'Now, on the threshold of another period in our National life, in peculiar difficulties we have the joy and we can have the confidence here that we have among us a man whom we can recommend to one another and to our people as a President of a character that has been tested sorely but that has shown itself to be eminently equal to bearing the responsibilities that are the responsibilities of our President.']"
      ]
     },
     "execution_count": 31,
     "metadata": {},
     "output_type": "execute_result"
    }
   ],
   "source": [
    "text = dail_4[\"text\"]\n",
    "text"
   ]
  },
  {
   "cell_type": "code",
   "execution_count": 63,
   "metadata": {
    "collapsed": false
   },
   "outputs": [],
   "source": [
    "toks = nlp(text[3])\n",
    "sentences = [[t.lemma_ for t in s if t.is_alpha and not t.is_stop] for s in toks.sents]\n",
    "model = gensim.models.Word2Vec(sentences, min_count=1)"
   ]
  },
  {
   "cell_type": "code",
   "execution_count": 72,
   "metadata": {
    "collapsed": false
   },
   "outputs": [
    {
     "data": {
      "text/plain": [
       "'There is no person here who has standing among his own sectional group and who has responsibilities greater than the responsibilities of an ordinary member, who has not some vision of the President acting as a leader among his own people and acting as a leader among the people of Ireland, and who does not in consequence find strength in carrying out his smaller sectional duties in being a leader of a group or a party.  Personally, in the peculiar responsibility that did come to me during the term of the last Dáil, the President has been a source of help without which I did not feel that I would have been able to shoulder the responsibilities that came my way.  His help, his understanding, his insight, and the way even in which he acted as a corrective, have made very much lighter than they would have ordinarily been, responsibilities of a peculiar nature that were very great.'"
      ]
     },
     "execution_count": 72,
     "metadata": {},
     "output_type": "execute_result"
    }
   ],
   "source": [
    "text[3]"
   ]
  }
 ],
 "metadata": {
  "kernelspec": {
   "display_name": "Python 3",
   "language": "python",
   "name": "python3"
  },
  "language_info": {
   "codemirror_mode": {
    "name": "ipython",
    "version": 3
   },
   "file_extension": ".py",
   "mimetype": "text/x-python",
   "name": "python",
   "nbconvert_exporter": "python",
   "pygments_lexer": "ipython3",
   "version": "3.5.1+"
  }
 },
 "nbformat": 4,
 "nbformat_minor": 0
}
