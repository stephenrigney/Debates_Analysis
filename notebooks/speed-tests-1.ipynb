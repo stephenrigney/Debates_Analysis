{
 "cells": [
  {
   "cell_type": "code",
   "execution_count": 125,
   "metadata": {
    "collapsed": false
   },
   "outputs": [],
   "source": [
    "import pymongo\n",
    "from datetime import datetime\n",
    "import numpy as np"
   ]
  },
  {
   "cell_type": "code",
   "execution_count": 22,
   "metadata": {
    "collapsed": true
   },
   "outputs": [],
   "source": [
    "db = pymongo.MongoClient()\n",
    "dail = db.texts.dail\n",
    "houses = db.houses.houses"
   ]
  },
  {
   "cell_type": "markdown",
   "metadata": {},
   "source": [
    "Retrieve the start and end dates for an individual Dáil, and retrieve documents for that dail."
   ]
  },
  {
   "cell_type": "code",
   "execution_count": 74,
   "metadata": {
    "collapsed": false
   },
   "outputs": [
    {
     "name": "stdout",
     "output_type": "stream",
     "text": [
      "Dáil: 4 \n",
      "Start date: 1923-09-19 \n",
      "End date: 1927-05-23\n"
     ]
    }
   ],
   "source": [
    "dail4 = houses.find_one({\"house_type\":'0', 'house_num':\"4\"}, { \"house_num\":1, \"start_term\":1, \"end_term\":1})\n",
    "print(\"Dáil:\", dail4['house_num'], \"\\nStart date:\", dail4['start_term'].date(), \"\\nEnd date:\", dail4['end_term'].date())"
   ]
  },
  {
   "cell_type": "markdown",
   "metadata": {},
   "source": [
    "### Comparison of different aggregration methods\n",
    "\n",
    "1. MongoDb's aggregration pipeline (fastest)\n",
    "2. Numpy sum function over Mongodb object converted to list\n",
    "3. Numpy sum over Mongodb generator object (slowest and overly complicated)\n",
    "3. Python sum function over Mongodb generator object"
   ]
  },
  {
   "cell_type": "code",
   "execution_count": 120,
   "metadata": {
    "collapsed": false
   },
   "outputs": [
    {
     "name": "stdout",
     "output_type": "stream",
     "text": [
      "MongoDB aggregation pipeline\n",
      "---\n",
      "CPU times: user 0 ns, sys: 4 ms, total: 4 ms\n",
      "Wall time: 296 ms\n",
      "\n",
      "Total number of tokens (words) uttered: 12,992,570\n"
     ]
    }
   ],
   "source": [
    "print(\"MongoDB aggregation pipeline\\n---\")\n",
    "\n",
    "%time d = dail.aggregate([{\"$match\": {\"date\": {\"$gte\":dail4[\"start_term\"], \"$lte\":dail4['end_term']}}}, {\"$group\": {\"_id\": None, \"sum\": {\"$sum\": \"$len_doc\"}}}]).next()\n",
    "\n",
    "print(\"\\nTotal number of tokens (words) uttered: {:,.0f}\".format(d['sum']))"
   ]
  },
  {
   "cell_type": "code",
   "execution_count": 121,
   "metadata": {
    "collapsed": false
   },
   "outputs": [
    {
     "name": "stdout",
     "output_type": "stream",
     "text": [
      "Numpy sum over list to array\n",
      "---\n",
      "CPU times: user 328 ms, sys: 12 ms, total: 340 ms\n",
      "Wall time: 743 ms\n",
      "\n",
      "Total number of tokens (words) uttered: 12,992,570\n"
     ]
    }
   ],
   "source": [
    "obj = dail.find({\"date\": {\"$gte\":dail4[\"start_term\"], \"$lte\":dail4['end_term']}}, {\"len_doc\":1})\n",
    "print(\"Numpy sum over list to array\\n---\")\n",
    "%time a = np.sum(np.array(list(f['len_doc'] for f in obj)))\n",
    "print(\"\\nTotal number of tokens (words) uttered: {:,.0f}\".format(a))"
   ]
  },
  {
   "cell_type": "code",
   "execution_count": 123,
   "metadata": {
    "collapsed": false
   },
   "outputs": [
    {
     "name": "stdout",
     "output_type": "stream",
     "text": [
      "Numpy sum over array from generator.\n",
      "---\n",
      "Counting...\n",
      "CPU times: user 4 ms, sys: 0 ns, total: 4 ms\n",
      "Wall time: 169 ms\n",
      "Creating array of requisite length...\n",
      "CPU times: user 0 ns, sys: 0 ns, total: 0 ns\n",
      "Wall time: 171 µs\n",
      "Replacing elements in array from obj...\n",
      "CPU times: user 408 ms, sys: 24 ms, total: 432 ms\n",
      "Wall time: 701 ms\n",
      "Summing array...\n",
      "CPU times: user 0 ns, sys: 0 ns, total: 0 ns\n",
      "Wall time: 232 µs\n",
      "\n",
      "Total number of tokens (words) uttered: 12,992,570\n"
     ]
    }
   ],
   "source": [
    "obj = dail.find({\"date\": {\"$gte\":dail4[\"start_term\"], \"$lte\":dail4['end_term']}}, {\"len_doc\":1})\n",
    "print(\"Numpy sum over array from generator.\\n---\")\n",
    "print(\"Counting...\")\n",
    "%time c = obj.count()\n",
    "print(\"Creating array of requisite length...\")\n",
    "%time a = np.zeros(c)\n",
    "print(\"Replacing elements in array from obj...\")\n",
    "%time for i, el in enumerate(obj): a[i] = el['len_doc']\n",
    "print(\"Summing array...\")\n",
    "%time a= np.sum(a)\n",
    "print(\"\\nTotal number of tokens (words) uttered: {:,.0f}\".format(a))"
   ]
  },
  {
   "cell_type": "code",
   "execution_count": 124,
   "metadata": {
    "collapsed": false
   },
   "outputs": [
    {
     "name": "stdout",
     "output_type": "stream",
     "text": [
      "Python sum over object.\n",
      "---\n",
      "CPU times: user 360 ms, sys: 4 ms, total: 364 ms\n",
      "Wall time: 686 ms\n",
      "\n",
      "Total number of tokens (words) uttered: 12,992,570\n"
     ]
    }
   ],
   "source": [
    "obj = dail.find({\"date\": {\"$gte\":dail4[\"start_term\"], \"$lte\":dail4['end_term']}}, {\"len_doc\":1})\n",
    "print(\"Python sum over object.\\n---\")\n",
    "%time a = sum(f['len_doc'] for f in obj)\n",
    "print(\"\\nTotal number of tokens (words) uttered: {:,.0f}\".format(a))"
   ]
  },
  {
   "cell_type": "code",
   "execution_count": 62,
   "metadata": {
    "collapsed": false
   },
   "outputs": [
    {
     "data": {
      "text/plain": [
       "1"
      ]
     },
     "execution_count": 62,
     "metadata": {},
     "output_type": "execute_result"
    }
   ],
   "source": [
    "obj = dail.find({\"date\": {\"$gte\":dail4[\"start_term\"], \"$lte\":dail4['end_term']}}, {\"len_doc\":1})"
   ]
  }
 ],
 "metadata": {
  "kernelspec": {
   "display_name": "Python 3",
   "language": "python",
   "name": "python3"
  },
  "language_info": {
   "codemirror_mode": {
    "name": "ipython",
    "version": 3
   },
   "file_extension": ".py",
   "mimetype": "text/x-python",
   "name": "python",
   "nbconvert_exporter": "python",
   "pygments_lexer": "ipython3",
   "version": "3.5.1+"
  }
 },
 "nbformat": 4,
 "nbformat_minor": 0
}
